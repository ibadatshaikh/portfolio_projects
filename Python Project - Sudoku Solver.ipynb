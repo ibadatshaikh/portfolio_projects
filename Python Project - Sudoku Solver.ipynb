{
 "cells": [
  {
   "cell_type": "code",
   "execution_count": 32,
   "id": "9269ac0a",
   "metadata": {},
   "outputs": [],
   "source": [
    "# Function to Generate Sudoku Board\n",
    "\n",
    "from sudoku import Sudoku\n",
    "import random\n",
    "array_board = []\n",
    "\n",
    "def generate_sudoku_array():\n",
    "    random.seed()\n",
    "    random_num = random.random()\n",
    "    sudoku_type_board = Sudoku(3).difficulty( random_num )\n",
    "    array_board = sudoku_type_board.board\n",
    "\n",
    "    for row in range(len( array_board )):\n",
    "        for column in range(len( array_board[row] )):\n",
    "            cell = array_board[row][column];\n",
    "            if array_board[row][column] is None:\n",
    "                array_board[row][column] = 0;\n",
    "    return array_board"
   ]
  },
  {
   "cell_type": "code",
   "execution_count": 33,
   "id": "9cbaa3c2",
   "metadata": {},
   "outputs": [],
   "source": [
    "# Function to Pretty Print Sudoku Board\n",
    "\n",
    "def pretty_print_sudoku( board ):\n",
    "    \n",
    "    character_count = len( str( board[0][0] ) )\n",
    "    divider = sudoku_pretty_print_divider( character_count )\n",
    "    header = sudoku_header_pretty_print( character_count )\n",
    "    \n",
    "    print( \"\\n\" + divider )\n",
    "    print( header )\n",
    "    print(  divider )\n",
    "    row_counter = 1;\n",
    "    for row in board:\n",
    "        print( \"||\", end = \" \")\n",
    "        column_counter = 1;\n",
    "        for cell in row:\n",
    "            if( column_counter % 3 == 0 ):\n",
    "                print( str( cell ) + \" ||\", end =\" \" )\n",
    "            else:\n",
    "                print( str( cell ), end =\" \" )\n",
    "            column_counter += 1\n",
    "        \n",
    "        if( row_counter % 3 == 0 ):\n",
    "            print( \"\\n\" + divider )\n",
    "        else:\n",
    "            print( \"\" )\n",
    "        row_counter += 1"
   ]
  },
  {
   "cell_type": "code",
   "execution_count": 34,
   "id": "1e1180ce",
   "metadata": {},
   "outputs": [],
   "source": [
    "# Function to determine length of divider lines for pretty_print_sudoku depending on character count\n",
    "\n",
    "def sudoku_pretty_print_divider( character_count ):\n",
    "    divider_count = 20 + ( character_count * 9 )\n",
    "    divider = \"\"\n",
    "    while( divider_count > 0 ):\n",
    "        divider += \"=\"\n",
    "        divider_count -= 1\n",
    "    \n",
    "    return divider;\n"
   ]
  },
  {
   "cell_type": "code",
   "execution_count": 35,
   "id": "4962d262",
   "metadata": {},
   "outputs": [],
   "source": [
    "# Function to create Sudoku header for pretty_print_sudoku depending on character count\n",
    "\n",
    "def sudoku_header_pretty_print( character_count ):\n",
    "    header = \"\"\n",
    "    title = \"SUDOKU\"\n",
    "    full_character_count = 11 + ( character_count * 9 )\n",
    "    half_character_count = full_character_count // 2\n",
    "    counter = 0;\n",
    "    while( counter <= half_character_count ):\n",
    "        header += \"|\"\n",
    "        counter += 1\n",
    "    header += \" \" + title + \" \"\n",
    "    while( counter <= full_character_count ):\n",
    "        header += \"|\"\n",
    "        counter += 1\n",
    "    return header"
   ]
  },
  {
   "cell_type": "code",
   "execution_count": 36,
   "id": "0dfbdbed",
   "metadata": {},
   "outputs": [
    {
     "name": "stdout",
     "output_type": "stream",
     "text": [
      "\n",
      "Randomly generated, unsolved sudoku board:\n",
      "\n",
      "=============================\n",
      "||||||||||| SUDOKU ||||||||||\n",
      "=============================\n",
      "|| 0 3 4 || 7 2 6 || 0 9 1 || \n",
      "|| 0 7 9 || 3 4 5 || 6 0 0 || \n",
      "|| 2 0 5 || 1 8 9 || 7 0 0 || \n",
      "=============================\n",
      "|| 5 2 1 || 0 3 4 || 8 0 0 || \n",
      "|| 4 8 7 || 0 5 2 || 9 1 3 || \n",
      "|| 6 9 0 || 8 1 7 || 2 4 0 || \n",
      "=============================\n",
      "|| 3 1 0 || 2 0 8 || 4 5 9 || \n",
      "|| 9 5 0 || 4 6 1 || 3 0 2 || \n",
      "|| 7 4 2 || 5 9 0 || 0 8 6 || \n",
      "=============================\n"
     ]
    }
   ],
   "source": [
    "# Generating and printing our initial randomly generated sudoku board\n",
    "\n",
    "sudoku = generate_sudoku_array();\n",
    "\n",
    "print(\"\\nRandomly generated, unsolved sudoku board:\")\n",
    "pretty_print_sudoku ( sudoku )"
   ]
  },
  {
   "cell_type": "code",
   "execution_count": 37,
   "id": "5da13757",
   "metadata": {},
   "outputs": [
    {
     "name": "stdout",
     "output_type": "stream",
     "text": [
      "\n",
      "======================================\n",
      "||||||||||||||| SUDOKU |||||||||||||||\n",
      "======================================\n",
      "|| A1 A2 A3 || A4 A5 A6 || A7 A8 A9 || \n",
      "|| B1 B2 B3 || B4 B5 B6 || B7 B8 B9 || \n",
      "|| C1 C2 C3 || C4 C5 C6 || C7 C8 C9 || \n",
      "======================================\n",
      "|| D1 D2 D3 || D4 D5 D6 || D7 D8 D9 || \n",
      "|| E1 E2 E3 || E4 E5 E6 || E7 E8 E9 || \n",
      "|| F1 F2 F3 || F4 F5 F6 || F7 F8 F9 || \n",
      "======================================\n",
      "|| G1 G2 G3 || G4 G5 G6 || G7 G8 G9 || \n",
      "|| H1 H2 H3 || H4 H5 H6 || H7 H8 H9 || \n",
      "|| I1 I2 I3 || I4 I5 I6 || I7 I8 I9 || \n",
      "======================================\n"
     ]
    }
   ],
   "source": [
    "# Create a Reference Grid\n",
    "\n",
    "reference_grid = [] \n",
    "def create_reference_grid():\n",
    " \n",
    "    nine_alphabet_letters = ['A','B','C','D','E','F','G','H','I']\n",
    "    nine_numbers = ['1','2','3','4','5','6','7','8','9']\n",
    "    for row in range(len( nine_alphabet_letters )):\n",
    "        temp_list = []\n",
    "        for column in range(len( nine_numbers )):\n",
    "            temp_list.append( nine_alphabet_letters[row] + nine_numbers[column] )\n",
    "        reference_grid.append(temp_list)\n",
    "\n",
    "\n",
    "create_reference_grid()\n",
    "pretty_print_sudoku( reference_grid )"
   ]
  },
  {
   "cell_type": "code",
   "execution_count": 31,
   "id": "8ef229c4",
   "metadata": {},
   "outputs": [],
   "source": [
    "# Solve Sudoku Board"
   ]
  },
  {
   "cell_type": "code",
   "execution_count": null,
   "id": "283408f9",
   "metadata": {},
   "outputs": [],
   "source": []
  }
 ],
 "metadata": {
  "kernelspec": {
   "display_name": "Python 3 (ipykernel)",
   "language": "python",
   "name": "python3"
  },
  "language_info": {
   "codemirror_mode": {
    "name": "ipython",
    "version": 3
   },
   "file_extension": ".py",
   "mimetype": "text/x-python",
   "name": "python",
   "nbconvert_exporter": "python",
   "pygments_lexer": "ipython3",
   "version": "3.11.3"
  }
 },
 "nbformat": 4,
 "nbformat_minor": 5
}
